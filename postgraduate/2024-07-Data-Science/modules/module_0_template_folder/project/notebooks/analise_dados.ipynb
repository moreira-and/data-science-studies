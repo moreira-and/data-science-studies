{
 "cells": [
  {
   "cell_type": "markdown",
   "metadata": {},
   "source": [
    "#### importação das bibliotecas"
   ]
  },
  {
   "cell_type": "code",
   "execution_count": 1,
   "metadata": {},
   "outputs": [],
   "source": [
    "import sys\n",
    "sys.path.append('../')\n",
    "\n",
    "import pandas as pd\n",
    "#pd.set_option('display.float_format',lambda x: f'%.0f')"
   ]
  },
  {
   "cell_type": "markdown",
   "metadata": {},
   "source": [
    "#### carregando arquivo de análise"
   ]
  },
  {
   "cell_type": "code",
   "execution_count": 2,
   "metadata": {},
   "outputs": [],
   "source": [
    "df = pd.read_csv('../data/raw/consumo_energia_eletrica.csv',sep= ',')"
   ]
  },
  {
   "cell_type": "markdown",
   "metadata": {},
   "source": [
    "### Análise Descritiva"
   ]
  },
  {
   "cell_type": "markdown",
   "metadata": {},
   "source": [
    "#### Análise duplicadas \n",
    "\n",
    "***"
   ]
  },
  {
   "cell_type": "code",
   "execution_count": 3,
   "metadata": {},
   "outputs": [
    {
     "data": {
      "text/plain": [
       "np.int64(1017)"
      ]
     },
     "execution_count": 3,
     "metadata": {},
     "output_type": "execute_result"
    }
   ],
   "source": [
    "df.duplicated().sum()"
   ]
  },
  {
   "cell_type": "code",
   "execution_count": 4,
   "metadata": {},
   "outputs": [],
   "source": [
    "#def count_duplicates(dataframe: pd.DataFrame):\n",
    "#    return dataframe.duplicated().sum()"
   ]
  },
  {
   "cell_type": "code",
   "execution_count": 5,
   "metadata": {},
   "outputs": [],
   "source": [
    "#def show_data (dataframe: pd.DataFrame):\n",
    "#    return dataframe.sample(10)"
   ]
  },
  {
   "cell_type": "code",
   "execution_count": 6,
   "metadata": {},
   "outputs": [],
   "source": [
    "from src.data_cleaning.duplicate_data import count_duplicates, check_duplicates"
   ]
  },
  {
   "cell_type": "code",
   "execution_count": 4,
   "metadata": {},
   "outputs": [],
   "source": [
    "import src.data_cleaning.duplicate_data as dd"
   ]
  },
  {
   "cell_type": "code",
   "execution_count": 5,
   "metadata": {},
   "outputs": [
    {
     "name": "stdout",
     "output_type": "stream",
     "text": [
      "Foram encontrados 0 de registros duplicados\n"
     ]
    },
    {
     "data": {
      "text/plain": [
       "np.int64(0)"
      ]
     },
     "execution_count": 5,
     "metadata": {},
     "output_type": "execute_result"
    }
   ],
   "source": [
    "dd.count_duplicates()"
   ]
  },
  {
   "cell_type": "code",
   "execution_count": 6,
   "metadata": {},
   "outputs": [
    {
     "name": "stdout",
     "output_type": "stream",
     "text": [
      "Foram encontrados 1017 de registros duplicados\n"
     ]
    },
    {
     "data": {
      "text/plain": [
       "np.int64(1017)"
      ]
     },
     "execution_count": 6,
     "metadata": {},
     "output_type": "execute_result"
    }
   ],
   "source": [
    "dd.count_duplicates(df)"
   ]
  },
  {
   "cell_type": "code",
   "execution_count": 9,
   "metadata": {},
   "outputs": [
    {
     "name": "stdout",
     "output_type": "stream",
     "text": [
      "Lista com os dados duplicados\n"
     ]
    },
    {
     "data": {
      "text/plain": [
       "0        False\n",
       "1        False\n",
       "2        False\n",
       "3        False\n",
       "4        False\n",
       "         ...  \n",
       "39892     True\n",
       "39893     True\n",
       "39894     True\n",
       "39895     True\n",
       "39896     True\n",
       "Length: 39897, dtype: bool"
      ]
     },
     "execution_count": 9,
     "metadata": {},
     "output_type": "execute_result"
    }
   ],
   "source": [
    "dd.check_duplicates(df)"
   ]
  },
  {
   "cell_type": "code",
   "execution_count": 10,
   "metadata": {},
   "outputs": [
    {
     "name": "stdout",
     "output_type": "stream",
     "text": [
      "Lista com os dados duplicados\n"
     ]
    },
    {
     "data": {
      "text/plain": [
       "0        False\n",
       "1        False\n",
       "2        False\n",
       "3        False\n",
       "4        False\n",
       "         ...  \n",
       "38875    False\n",
       "38876    False\n",
       "38877    False\n",
       "38878    False\n",
       "38879    False\n",
       "Length: 38880, dtype: bool"
      ]
     },
     "execution_count": 10,
     "metadata": {},
     "output_type": "execute_result"
    }
   ],
   "source": [
    "df_sem_duplicados = dd.drop_duplicates(df)\n",
    "check_duplicates(df_sem_duplicados)"
   ]
  },
  {
   "cell_type": "markdown",
   "metadata": {},
   "source": [
    "#### Análise de dados ausentes\n",
    "\n",
    "***"
   ]
  },
  {
   "cell_type": "code",
   "execution_count": 11,
   "metadata": {},
   "outputs": [
    {
     "data": {
      "text/plain": [
       "ano                        0\n",
       "mes                        0\n",
       "sigla_uf                   0\n",
       "tipo_consumo               0\n",
       "numero_consumidores    12960\n",
       "consumo                    0\n",
       "dtype: int64"
      ]
     },
     "execution_count": 11,
     "metadata": {},
     "output_type": "execute_result"
    }
   ],
   "source": [
    "df_sem_duplicados.isna().sum()"
   ]
  },
  {
   "cell_type": "code",
   "execution_count": 12,
   "metadata": {},
   "outputs": [],
   "source": [
    "dados_ausentes = df_sem_duplicados.isna().sum()\n",
    "total_registros = len(df_sem_duplicados)"
   ]
  },
  {
   "cell_type": "code",
   "execution_count": 13,
   "metadata": {},
   "outputs": [
    {
     "data": {
      "text/plain": [
       "38880"
      ]
     },
     "execution_count": 13,
     "metadata": {},
     "output_type": "execute_result"
    }
   ],
   "source": [
    "total_registros"
   ]
  },
  {
   "cell_type": "code",
   "execution_count": 14,
   "metadata": {},
   "outputs": [
    {
     "data": {
      "text/html": [
       "<div>\n",
       "<style scoped>\n",
       "    .dataframe tbody tr th:only-of-type {\n",
       "        vertical-align: middle;\n",
       "    }\n",
       "\n",
       "    .dataframe tbody tr th {\n",
       "        vertical-align: top;\n",
       "    }\n",
       "\n",
       "    .dataframe thead th {\n",
       "        text-align: right;\n",
       "    }\n",
       "</style>\n",
       "<table border=\"1\" class=\"dataframe\">\n",
       "  <thead>\n",
       "    <tr style=\"text-align: right;\">\n",
       "      <th></th>\n",
       "      <th>coluna</th>\n",
       "      <th>quantidade</th>\n",
       "    </tr>\n",
       "  </thead>\n",
       "  <tbody>\n",
       "    <tr>\n",
       "      <th>0</th>\n",
       "      <td>ano</td>\n",
       "      <td>0</td>\n",
       "    </tr>\n",
       "    <tr>\n",
       "      <th>1</th>\n",
       "      <td>mes</td>\n",
       "      <td>0</td>\n",
       "    </tr>\n",
       "    <tr>\n",
       "      <th>2</th>\n",
       "      <td>sigla_uf</td>\n",
       "      <td>0</td>\n",
       "    </tr>\n",
       "    <tr>\n",
       "      <th>3</th>\n",
       "      <td>tipo_consumo</td>\n",
       "      <td>0</td>\n",
       "    </tr>\n",
       "    <tr>\n",
       "      <th>4</th>\n",
       "      <td>numero_consumidores</td>\n",
       "      <td>12960</td>\n",
       "    </tr>\n",
       "    <tr>\n",
       "      <th>5</th>\n",
       "      <td>consumo</td>\n",
       "      <td>0</td>\n",
       "    </tr>\n",
       "  </tbody>\n",
       "</table>\n",
       "</div>"
      ],
      "text/plain": [
       "                coluna  quantidade\n",
       "0                  ano           0\n",
       "1                  mes           0\n",
       "2             sigla_uf           0\n",
       "3         tipo_consumo           0\n",
       "4  numero_consumidores       12960\n",
       "5              consumo           0"
      ]
     },
     "execution_count": 14,
     "metadata": {},
     "output_type": "execute_result"
    }
   ],
   "source": [
    "# dataframe com os resultados\n",
    "ausentes = dados_ausentes.reset_index(name = 'qtd')\n",
    "ausentes.columns = ['coluna','quantidade'] #Renomeia colunas\n",
    "ausentes"
   ]
  },
  {
   "cell_type": "code",
   "execution_count": 15,
   "metadata": {},
   "outputs": [],
   "source": [
    "#### Calcula percentual do total\n",
    "ausentes['percentual'] = ausentes['quantidade'] / total_registros * 100"
   ]
  },
  {
   "cell_type": "code",
   "execution_count": 16,
   "metadata": {},
   "outputs": [],
   "source": [
    "ausentes['percentual'] = ausentes['percentual'].apply(lambda x: f'{x: .1f}%')"
   ]
  },
  {
   "cell_type": "code",
   "execution_count": 17,
   "metadata": {},
   "outputs": [
    {
     "data": {
      "text/html": [
       "<div>\n",
       "<style scoped>\n",
       "    .dataframe tbody tr th:only-of-type {\n",
       "        vertical-align: middle;\n",
       "    }\n",
       "\n",
       "    .dataframe tbody tr th {\n",
       "        vertical-align: top;\n",
       "    }\n",
       "\n",
       "    .dataframe thead th {\n",
       "        text-align: right;\n",
       "    }\n",
       "</style>\n",
       "<table border=\"1\" class=\"dataframe\">\n",
       "  <thead>\n",
       "    <tr style=\"text-align: right;\">\n",
       "      <th></th>\n",
       "      <th>coluna</th>\n",
       "      <th>quantidade</th>\n",
       "      <th>percentual</th>\n",
       "    </tr>\n",
       "  </thead>\n",
       "  <tbody>\n",
       "    <tr>\n",
       "      <th>4</th>\n",
       "      <td>numero_consumidores</td>\n",
       "      <td>12960</td>\n",
       "      <td>33.3%</td>\n",
       "    </tr>\n",
       "  </tbody>\n",
       "</table>\n",
       "</div>"
      ],
      "text/plain": [
       "                coluna  quantidade percentual\n",
       "4  numero_consumidores       12960      33.3%"
      ]
     },
     "execution_count": 17,
     "metadata": {},
     "output_type": "execute_result"
    }
   ],
   "source": [
    "filtro = ausentes['quantidade']>0\n",
    "ausentes[filtro]"
   ]
  },
  {
   "cell_type": "code",
   "execution_count": 18,
   "metadata": {},
   "outputs": [
    {
     "name": "stdout",
     "output_type": "stream",
     "text": [
      "<class 'pandas.core.frame.DataFrame'>\n",
      "RangeIndex: 39897 entries, 0 to 39896\n",
      "Data columns (total 6 columns):\n",
      " #   Column               Non-Null Count  Dtype  \n",
      "---  ------               --------------  -----  \n",
      " 0   ano                  39897 non-null  int64  \n",
      " 1   mes                  39897 non-null  int64  \n",
      " 2   sigla_uf             39897 non-null  object \n",
      " 3   tipo_consumo         39897 non-null  object \n",
      " 4   numero_consumidores  26937 non-null  float64\n",
      " 5   consumo              39897 non-null  int64  \n",
      "dtypes: float64(1), int64(3), object(2)\n",
      "memory usage: 1.8+ MB\n"
     ]
    }
   ],
   "source": [
    "df.info()"
   ]
  },
  {
   "cell_type": "code",
   "execution_count": 19,
   "metadata": {},
   "outputs": [
    {
     "name": "stdout",
     "output_type": "stream",
     "text": [
      "<class 'pandas.core.frame.DataFrame'>\n",
      "RangeIndex: 39897 entries, 0 to 39896\n",
      "Data columns (total 6 columns):\n",
      " #   Column               Non-Null Count  Dtype  \n",
      "---  ------               --------------  -----  \n",
      " 0   ano                  39897 non-null  float64\n",
      " 1   mes                  39897 non-null  int64  \n",
      " 2   sigla_uf             39897 non-null  object \n",
      " 3   tipo_consumo         39897 non-null  object \n",
      " 4   numero_consumidores  26937 non-null  float64\n",
      " 5   consumo              39897 non-null  int64  \n",
      "dtypes: float64(2), int64(2), object(2)\n",
      "memory usage: 1.8+ MB\n"
     ]
    }
   ],
   "source": [
    "df['ano'] = df['ano'].astype(float)\n",
    "df.info()"
   ]
  },
  {
   "cell_type": "code",
   "execution_count": 20,
   "metadata": {},
   "outputs": [
    {
     "data": {
      "text/html": [
       "<div>\n",
       "<style scoped>\n",
       "    .dataframe tbody tr th:only-of-type {\n",
       "        vertical-align: middle;\n",
       "    }\n",
       "\n",
       "    .dataframe tbody tr th {\n",
       "        vertical-align: top;\n",
       "    }\n",
       "\n",
       "    .dataframe thead th {\n",
       "        text-align: right;\n",
       "    }\n",
       "</style>\n",
       "<table border=\"1\" class=\"dataframe\">\n",
       "  <thead>\n",
       "    <tr style=\"text-align: right;\">\n",
       "      <th></th>\n",
       "      <th>ano</th>\n",
       "      <th>mes</th>\n",
       "      <th>sigla_uf</th>\n",
       "      <th>tipo_consumo</th>\n",
       "      <th>numero_consumidores</th>\n",
       "      <th>consumo</th>\n",
       "    </tr>\n",
       "  </thead>\n",
       "  <tbody>\n",
       "    <tr>\n",
       "      <th>0</th>\n",
       "      <td>2004</td>\n",
       "      <td>1</td>\n",
       "      <td>TO</td>\n",
       "      <td>Total</td>\n",
       "      <td>NaN</td>\n",
       "      <td>65876</td>\n",
       "    </tr>\n",
       "    <tr>\n",
       "      <th>1</th>\n",
       "      <td>2004</td>\n",
       "      <td>1</td>\n",
       "      <td>BA</td>\n",
       "      <td>Total</td>\n",
       "      <td>NaN</td>\n",
       "      <td>1444451</td>\n",
       "    </tr>\n",
       "    <tr>\n",
       "      <th>2</th>\n",
       "      <td>2004</td>\n",
       "      <td>1</td>\n",
       "      <td>PR</td>\n",
       "      <td>Total</td>\n",
       "      <td>NaN</td>\n",
       "      <td>1596274</td>\n",
       "    </tr>\n",
       "    <tr>\n",
       "      <th>3</th>\n",
       "      <td>2004</td>\n",
       "      <td>1</td>\n",
       "      <td>RS</td>\n",
       "      <td>Total</td>\n",
       "      <td>NaN</td>\n",
       "      <td>1780912</td>\n",
       "    </tr>\n",
       "    <tr>\n",
       "      <th>4</th>\n",
       "      <td>2004</td>\n",
       "      <td>1</td>\n",
       "      <td>GO</td>\n",
       "      <td>Total</td>\n",
       "      <td>NaN</td>\n",
       "      <td>630624</td>\n",
       "    </tr>\n",
       "    <tr>\n",
       "      <th>...</th>\n",
       "      <td>...</td>\n",
       "      <td>...</td>\n",
       "      <td>...</td>\n",
       "      <td>...</td>\n",
       "      <td>...</td>\n",
       "      <td>...</td>\n",
       "    </tr>\n",
       "    <tr>\n",
       "      <th>37579</th>\n",
       "      <td>2023</td>\n",
       "      <td>12</td>\n",
       "      <td>DF</td>\n",
       "      <td>Cativo</td>\n",
       "      <td>NaN</td>\n",
       "      <td>503565</td>\n",
       "    </tr>\n",
       "    <tr>\n",
       "      <th>37580</th>\n",
       "      <td>2023</td>\n",
       "      <td>12</td>\n",
       "      <td>MT</td>\n",
       "      <td>Cativo</td>\n",
       "      <td>NaN</td>\n",
       "      <td>732101</td>\n",
       "    </tr>\n",
       "    <tr>\n",
       "      <th>37581</th>\n",
       "      <td>2023</td>\n",
       "      <td>12</td>\n",
       "      <td>RR</td>\n",
       "      <td>Cativo</td>\n",
       "      <td>NaN</td>\n",
       "      <td>112337</td>\n",
       "    </tr>\n",
       "    <tr>\n",
       "      <th>37582</th>\n",
       "      <td>2023</td>\n",
       "      <td>12</td>\n",
       "      <td>CE</td>\n",
       "      <td>Cativo</td>\n",
       "      <td>NaN</td>\n",
       "      <td>887204</td>\n",
       "    </tr>\n",
       "    <tr>\n",
       "      <th>37583</th>\n",
       "      <td>2023</td>\n",
       "      <td>12</td>\n",
       "      <td>RJ</td>\n",
       "      <td>Cativo</td>\n",
       "      <td>NaN</td>\n",
       "      <td>2170588</td>\n",
       "    </tr>\n",
       "  </tbody>\n",
       "</table>\n",
       "<p>12960 rows × 6 columns</p>\n",
       "</div>"
      ],
      "text/plain": [
       "        ano  mes sigla_uf tipo_consumo  numero_consumidores  consumo\n",
       "0      2004    1       TO        Total                  NaN    65876\n",
       "1      2004    1       BA        Total                  NaN  1444451\n",
       "2      2004    1       PR        Total                  NaN  1596274\n",
       "3      2004    1       RS        Total                  NaN  1780912\n",
       "4      2004    1       GO        Total                  NaN   630624\n",
       "...     ...  ...      ...          ...                  ...      ...\n",
       "37579  2023   12       DF       Cativo                  NaN   503565\n",
       "37580  2023   12       MT       Cativo                  NaN   732101\n",
       "37581  2023   12       RR       Cativo                  NaN   112337\n",
       "37582  2023   12       CE       Cativo                  NaN   887204\n",
       "37583  2023   12       RJ       Cativo                  NaN  2170588\n",
       "\n",
       "[12960 rows x 6 columns]"
      ]
     },
     "execution_count": 20,
     "metadata": {},
     "output_type": "execute_result"
    }
   ],
   "source": [
    "filtro = df_sem_duplicados['numero_consumidores'].isna()\n",
    "df_sem_duplicados.loc[filtro,:]"
   ]
  },
  {
   "cell_type": "code",
   "execution_count": 21,
   "metadata": {},
   "outputs": [
    {
     "data": {
      "text/html": [
       "<div>\n",
       "<style scoped>\n",
       "    .dataframe tbody tr th:only-of-type {\n",
       "        vertical-align: middle;\n",
       "    }\n",
       "\n",
       "    .dataframe tbody tr th {\n",
       "        vertical-align: top;\n",
       "    }\n",
       "\n",
       "    .dataframe thead th {\n",
       "        text-align: right;\n",
       "    }\n",
       "</style>\n",
       "<table border=\"1\" class=\"dataframe\">\n",
       "  <thead>\n",
       "    <tr style=\"text-align: right;\">\n",
       "      <th></th>\n",
       "      <th>tipo_consumo</th>\n",
       "      <th>numero_consumidores</th>\n",
       "    </tr>\n",
       "  </thead>\n",
       "  <tbody>\n",
       "    <tr>\n",
       "      <th>0</th>\n",
       "      <td>Cativo</td>\n",
       "      <td>NaN</td>\n",
       "    </tr>\n",
       "    <tr>\n",
       "      <th>1</th>\n",
       "      <td>Comercial</td>\n",
       "      <td>1.950837e+05</td>\n",
       "    </tr>\n",
       "    <tr>\n",
       "      <th>2</th>\n",
       "      <td>Industrial</td>\n",
       "      <td>1.933195e+04</td>\n",
       "    </tr>\n",
       "    <tr>\n",
       "      <th>3</th>\n",
       "      <td>Outros</td>\n",
       "      <td>1.713510e+05</td>\n",
       "    </tr>\n",
       "    <tr>\n",
       "      <th>4</th>\n",
       "      <td>Residencial</td>\n",
       "      <td>2.343447e+06</td>\n",
       "    </tr>\n",
       "    <tr>\n",
       "      <th>5</th>\n",
       "      <td>Total</td>\n",
       "      <td>NaN</td>\n",
       "    </tr>\n",
       "  </tbody>\n",
       "</table>\n",
       "</div>"
      ],
      "text/plain": [
       "  tipo_consumo  numero_consumidores\n",
       "0       Cativo                  NaN\n",
       "1    Comercial         1.950837e+05\n",
       "2   Industrial         1.933195e+04\n",
       "3       Outros         1.713510e+05\n",
       "4  Residencial         2.343447e+06\n",
       "5        Total                  NaN"
      ]
     },
     "execution_count": 21,
     "metadata": {},
     "output_type": "execute_result"
    }
   ],
   "source": [
    "df_sem_duplicados.groupby('tipo_consumo')['numero_consumidores'].mean().reset_index()"
   ]
  },
  {
   "cell_type": "code",
   "execution_count": 22,
   "metadata": {},
   "outputs": [
    {
     "data": {
      "text/html": [
       "<div>\n",
       "<style scoped>\n",
       "    .dataframe tbody tr th:only-of-type {\n",
       "        vertical-align: middle;\n",
       "    }\n",
       "\n",
       "    .dataframe tbody tr th {\n",
       "        vertical-align: top;\n",
       "    }\n",
       "\n",
       "    .dataframe thead th {\n",
       "        text-align: right;\n",
       "    }\n",
       "</style>\n",
       "<table border=\"1\" class=\"dataframe\">\n",
       "  <thead>\n",
       "    <tr style=\"text-align: right;\">\n",
       "      <th></th>\n",
       "      <th>ano</th>\n",
       "      <th>mes</th>\n",
       "      <th>sigla_uf</th>\n",
       "      <th>tipo_consumo</th>\n",
       "      <th>numero_consumidores</th>\n",
       "      <th>consumo</th>\n",
       "    </tr>\n",
       "  </thead>\n",
       "  <tbody>\n",
       "    <tr>\n",
       "      <th>36951</th>\n",
       "      <td>2023</td>\n",
       "      <td>1</td>\n",
       "      <td>MG</td>\n",
       "      <td>Total</td>\n",
       "      <td>NaN</td>\n",
       "      <td>5052956</td>\n",
       "    </tr>\n",
       "    <tr>\n",
       "      <th>37262</th>\n",
       "      <td>2023</td>\n",
       "      <td>1</td>\n",
       "      <td>MG</td>\n",
       "      <td>Cativo</td>\n",
       "      <td>NaN</td>\n",
       "      <td>2285706</td>\n",
       "    </tr>\n",
       "    <tr>\n",
       "      <th>37601</th>\n",
       "      <td>2023</td>\n",
       "      <td>1</td>\n",
       "      <td>MG</td>\n",
       "      <td>Outros</td>\n",
       "      <td>627736.0</td>\n",
       "      <td>498609</td>\n",
       "    </tr>\n",
       "    <tr>\n",
       "      <th>37917</th>\n",
       "      <td>2023</td>\n",
       "      <td>1</td>\n",
       "      <td>MG</td>\n",
       "      <td>Comercial</td>\n",
       "      <td>995468.0</td>\n",
       "      <td>689840</td>\n",
       "    </tr>\n",
       "    <tr>\n",
       "      <th>38255</th>\n",
       "      <td>2023</td>\n",
       "      <td>1</td>\n",
       "      <td>MG</td>\n",
       "      <td>Industrial</td>\n",
       "      <td>34307.0</td>\n",
       "      <td>2731812</td>\n",
       "    </tr>\n",
       "    <tr>\n",
       "      <th>38564</th>\n",
       "      <td>2023</td>\n",
       "      <td>1</td>\n",
       "      <td>MG</td>\n",
       "      <td>Residencial</td>\n",
       "      <td>8045200.0</td>\n",
       "      <td>1132693</td>\n",
       "    </tr>\n",
       "  </tbody>\n",
       "</table>\n",
       "</div>"
      ],
      "text/plain": [
       "        ano  mes sigla_uf tipo_consumo  numero_consumidores  consumo\n",
       "36951  2023    1       MG        Total                  NaN  5052956\n",
       "37262  2023    1       MG       Cativo                  NaN  2285706\n",
       "37601  2023    1       MG       Outros             627736.0   498609\n",
       "37917  2023    1       MG    Comercial             995468.0   689840\n",
       "38255  2023    1       MG   Industrial              34307.0  2731812\n",
       "38564  2023    1       MG  Residencial            8045200.0  1132693"
      ]
     },
     "execution_count": 22,
     "metadata": {},
     "output_type": "execute_result"
    }
   ],
   "source": [
    "filtro = (df_sem_duplicados['sigla_uf'] == 'MG') & (df_sem_duplicados['ano'] == 2023) & (df_sem_duplicados['mes'] == 1)\n",
    "df_sem_duplicados[filtro]"
   ]
  }
 ],
 "metadata": {
  "kernelspec": {
   "display_name": "bootcamp_cientista_dados",
   "language": "python",
   "name": "python3"
  },
  "language_info": {
   "codemirror_mode": {
    "name": "ipython",
    "version": 3
   },
   "file_extension": ".py",
   "mimetype": "text/x-python",
   "name": "python",
   "nbconvert_exporter": "python",
   "pygments_lexer": "ipython3",
   "version": "3.12.6"
  }
 },
 "nbformat": 4,
 "nbformat_minor": 2
}
