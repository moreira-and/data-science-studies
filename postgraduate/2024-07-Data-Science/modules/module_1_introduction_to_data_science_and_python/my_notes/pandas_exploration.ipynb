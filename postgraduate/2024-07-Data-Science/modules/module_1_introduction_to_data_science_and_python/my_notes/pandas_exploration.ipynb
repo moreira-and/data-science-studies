{
 "cells": [
  {
   "cell_type": "markdown",
   "metadata": {},
   "source": [
    "# Pandas exploration\n",
    "[docs](https://pandas.pydata.org/docs/)\n",
    "\n",
    "in a virtualenv cmd prompt: pip install pandas"
   ]
  },
  {
   "cell_type": "code",
   "execution_count": null,
   "metadata": {},
   "outputs": [],
   "source": []
  }
 ],
 "metadata": {
  "language_info": {
   "name": "python"
  }
 },
 "nbformat": 4,
 "nbformat_minor": 2
}
