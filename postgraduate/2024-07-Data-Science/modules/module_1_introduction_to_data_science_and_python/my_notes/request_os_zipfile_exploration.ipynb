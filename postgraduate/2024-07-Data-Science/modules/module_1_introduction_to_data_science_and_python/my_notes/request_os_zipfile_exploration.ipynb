{
 "cells": [
  {
   "cell_type": "markdown",
   "metadata": {},
   "source": [
    "## Importando bibliotecas"
   ]
  },
  {
   "cell_type": "code",
   "execution_count": null,
   "metadata": {},
   "outputs": [],
   "source": [
    "import os\n",
    "import requests\n",
    "import zipfile\n",
    "import pandas as pd"
   ]
  },
  {
   "cell_type": "markdown",
   "metadata": {},
   "source": [
    "## Acessando a URL\n",
    "\n",
    "A variável url contém o endereço da web de onde o arquivo ZIP será baixado.\n",
    "\n",
    "A função requests.get(url) é utilizada para realizar uma requisição HTTP para a URL especificada, e a resposta é armazenada na variável response"
   ]
  },
  {
   "cell_type": "code",
   "execution_count": null,
   "metadata": {},
   "outputs": [],
   "source": [
    "url = 'https://github.com/ProfLeandroLessa/classroom-datasets/raw/master/CDD/TP/pesquisa_preferencias.zip'\n",
    "response = requests.get(url)"
   ]
  },
  {
   "cell_type": "markdown",
   "metadata": {},
   "source": [
    "## Verificando e Criando o Diretório de Armazenamento\n",
    "Após efetuar a requisição da URL no site, é crucial verificar seu status para validar sua integridade e criar o caminho onde os dados serão armazenados.\n",
    " \n",
    "-Definição do Diretório de Destino:\n",
    "    -A variável diretorio_destino indica o local no sistema de arquivos onde o arquivo ZIP será salvo após o download. Nesse caso o diretório é uma pasta armazenada no diretório C: do Windows.\n",
    "-Verificação de Resposta Bem-sucedida:\n",
    "    - O código verifica se a resposta da requisição possui o código de status HTTP 200 (OK), indicando que a requisição foi bem-sucedida.\n",
    "    -Extração do Nome do Arquivo e Definição do Caminho do Arquivo ZIP:\n",
    "    -Se a resposta foi bem-sucedida, o código extrai o nome do arquivo ZIP da URL (parte após a última barra) e, em seguida, cria o caminho completo do arquivo ZIP utilizando os.path.join(diretorio_destino, nome_arquivo_zip).\n",
    "    -Neste contexto, o nome do arquivo é combinado ao diretório de armazenamento. Como exemplo, o caminho completo para o arquivo destino seria:    -C:\\dados_pesquisa\\pesquisa_preferencias.zip."
   ]
  },
  {
   "cell_type": "code",
   "execution_count": null,
   "metadata": {},
   "outputs": [],
   "source": [
    "\n",
    "diretorio_destino = r'C:\\VIRTUALENVS\\MyFirstVirtualEnv\\2024-9A - POS - Bootcamp Cientista de Dados\\Atividades\\AMM1_health_analytics\\datasets'\n",
    "if response.status_code == requests.codes.OK:\n",
    "        nome_arquivo_zip = url.split('/')[-1]\n",
    "        caminho_arquivo_zip = os.path.join(diretorio_destino, nome_arquivo_zip)\n"
   ]
  },
  {
   "cell_type": "markdown",
   "metadata": {},
   "source": [
    "### Realizando o Download do Arquivo\n",
    "Com o diretório de destino devidamente configurado, o próximo passo é realizar o download do arquivo. Utilize o código abaixo para executar essa operação.\n",
    " \n",
    "Aqui temos:\n",
    "\n",
    "-Abertura e Escrita do Arquivo:\n",
    "    - O código abre um arquivo no caminho especificado (caminho_arquivo_zip) no modo de escrita binária ('wb').\n",
    "    - O conteúdo da resposta HTTP (response.content), que é o conteúdo binário do arquivo ZIP, é então gravado nesse arquivo recém-aberto.\n",
    "-Impressão do Status do Download:\n",
    "    -Após a escrita bem-sucedida do arquivo, uma mensagem é impressa indicando que o download foi concluído e especificando o local onde o arquivo foi salvo (caminho_arquivo_zip)."
   ]
  },
  {
   "cell_type": "code",
   "execution_count": null,
   "metadata": {},
   "outputs": [],
   "source": [
    "\n",
    "with open(caminho_arquivo_zip, 'wb') as arquivo:\n",
    "            arquivo.write(response.content)\n",
    "            print(\"Donwload finalizado. Salvo em: {}\".format(caminho_arquivo_zip))"
   ]
  },
  {
   "cell_type": "markdown",
   "metadata": {},
   "source": [
    "## Descompactando o Arquivo\n",
    "Com o arquivo devidamente baixado no seu diretório, o próximo e último passo consiste em realizar a extração do seu conteúdo. Utilize o código abaixo para realizar esta operação.\n",
    " \n",
    "-Abertura e Extração do Arquivo ZIP\n",
    "-Nesta seção, um contexto with é utilizado para garantir a correta manipulação do arquivo ZIP. O arquivo ZIP especificado em caminho_arquivo_zip é aberto no modo de leitura ('r').\n",
    "-Em seguida, o método extractall é aplicado ao objeto ZipFile (zip_ref), descompactando todos os arquivos do arquivo ZIP para o diretório fornecido em diretorio_destino.\n",
    "-Impressão do Status da Extração:\n",
    "    -Após a extração bem-sucedida, uma mensagem é impressa indicando que o arquivo ZIP foi descompactado com sucesso. O caminho do diretório onde os arquivos foram extraídos (diretorio_destino) é incluído na mensagem para fornecer informações sobre a localização dos dados recém-extraídos."
   ]
  },
  {
   "cell_type": "code",
   "execution_count": null,
   "metadata": {},
   "outputs": [],
   "source": [
    "\n",
    "with zipfile.ZipFile(caminho_arquivo_zip, 'r') as zip_ref:\n",
    "    zip_ref.extractall(diretorio_destino)\n",
    " \n",
    "print(f\"Arquivo ZIP descompactado em: {diretorio_destino}\")"
   ]
  },
  {
   "cell_type": "markdown",
   "metadata": {},
   "source": [
    "## csv files to dataframe"
   ]
  },
  {
   "cell_type": "code",
   "execution_count": null,
   "metadata": {},
   "outputs": [],
   "source": [
    "\n",
    "# Caminho da pasta com os arquivos CSV\n",
    "pasta = r'C:\\VIRTUALENVS\\MyFirstVirtualEnv\\2024-9A - POS - Bootcamp Cientista de Dados\\Atividades\\AMM1_health_analytics\\datasets'\n",
    "\n",
    "# Lista para armazenar os DataFrames lidos\n",
    "dfs = []\n",
    "\n",
    "# %%\n",
    "# Percorre todos os arquivos na pasta\n",
    "for arquivo in os.listdir(pasta):\n",
    "    if arquivo.endswith('.csv'):\n",
    "        caminho_arquivo = os.path.join(pasta, arquivo)\n",
    "        try:\n",
    "            # Lê o arquivo CSV\n",
    "            df = pd.read_csv(caminho_arquivo, sep='|', encoding='ISO-8859-1', skipinitialspace=True, engine='python')\n",
    "            # Adiciona o DataFrame à lista\n",
    "            dfs.append(df)\n",
    "            print(f\"Arquivo {arquivo} lido com sucesso.\")\n",
    "        except Exception as e:\n",
    "            print(f\"Erro ao ler {arquivo}: {e}\")\n",
    "\n",
    "# Concatena todos os DataFrames em um único DataFrame\n",
    "df_concatenado = pd.concat(dfs, ignore_index=True)"
   ]
  },
  {
   "cell_type": "code",
   "execution_count": null,
   "metadata": {},
   "outputs": [],
   "source": [
    "# Exibe o DataFrame concatenado\n",
    "df_concatenado.head()"
   ]
  }
 ],
 "metadata": {
  "kernelspec": {
   "display_name": "bootcamp_cientista_dados",
   "language": "python",
   "name": "python3"
  },
  "language_info": {
   "name": "python",
   "version": "3.12.6"
  }
 },
 "nbformat": 4,
 "nbformat_minor": 2
}
