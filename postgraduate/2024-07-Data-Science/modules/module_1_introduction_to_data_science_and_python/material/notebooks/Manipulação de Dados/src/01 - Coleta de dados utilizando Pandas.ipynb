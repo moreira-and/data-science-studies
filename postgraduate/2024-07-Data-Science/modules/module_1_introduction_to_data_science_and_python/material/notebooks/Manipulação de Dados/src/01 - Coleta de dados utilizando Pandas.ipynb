{
 "cells": [
  {
   "cell_type": "markdown",
   "id": "b1799ba2",
   "metadata": {},
   "source": [
    "#### Coleta de dados \n",
    "***\n",
    "\n",
    "A coleta de dados é uma etapa fundamental para qualquer projeto. É a partir dos dados que os profissionais podem realizar automações, análises e extrair informações relevantes para tomada de decisões e resolução de problemas. Sem uma coleta adequada de dados, o projeto pode ser comprometido, levando a conclusões equivocadas e resultados ineficientes. \n",
    "\n",
    "Além disso, a qualidade dos dados coletados é fundamental para garantir a confiabilidade das análises realizadas e a validade das conclusões obtidas. \n",
    "\n",
    "Por isso, é essencial investir em técnicas e ferramentas que possibilitem uma coleta de dados eficiente e precisa, garantindo assim o sucesso dos projetos de ciência de dados.\n",
    "\n",
    "\n",
    "<font color=\"yellow\">Requisitos</font>\n",
    "***\n",
    "Instalação das bibliotecas:\n",
    "- Pandas (pip install pandas)\n",
    "- xlrd  ➝ Para coletar dados do tipo Excel (pip install xlrd)\n",
    "- lxml ➝ Para coletar dados estruturados na web (pip install lxml)\n",
    "- os    ➝ Para acessar pastas do sistema operacional\n"
   ]
  },
  {
   "cell_type": "markdown",
   "id": "fcf29ed4",
   "metadata": {},
   "source": [
    "#### Importando as Bibliotecas"
   ]
  },
  {
   "cell_type": "code",
   "execution_count": null,
   "id": "a8d80635",
   "metadata": {},
   "outputs": [],
   "source": []
  },
  {
   "cell_type": "markdown",
   "id": "f78cc422",
   "metadata": {},
   "source": [
    "#### Coleta de Dados de Arquivo do Tipo CSV\n",
    "***\n",
    "A coleta de dados de arquivos CSV é uma etapa fundamental em muitos projetos de análise de dados. O formato CSV (Comma-Separated Values) é amplamente utilizado devido à sua simplicidade e compatibilidade com diversas ferramentas e sistemas."
   ]
  },
  {
   "cell_type": "code",
   "execution_count": null,
   "id": "0899a837",
   "metadata": {},
   "outputs": [],
   "source": []
  },
  {
   "cell_type": "code",
   "execution_count": null,
   "id": "2a43f203",
   "metadata": {},
   "outputs": [],
   "source": []
  },
  {
   "cell_type": "markdown",
   "id": "97564953",
   "metadata": {},
   "source": [
    "#### Coleta de Dados de Arquivo do Tipo Excel\n",
    "***\n",
    "O formato Excel é amplamente utilizado devido à sua versatilidade e facilidade de uso. "
   ]
  },
  {
   "cell_type": "code",
   "execution_count": null,
   "id": "8366759f",
   "metadata": {},
   "outputs": [],
   "source": []
  },
  {
   "cell_type": "code",
   "execution_count": null,
   "id": "5461e88a",
   "metadata": {},
   "outputs": [],
   "source": []
  },
  {
   "cell_type": "code",
   "execution_count": null,
   "id": "30897919",
   "metadata": {},
   "outputs": [],
   "source": [
    "# Selecionado planilha específica\n"
   ]
  },
  {
   "cell_type": "code",
   "execution_count": null,
   "id": "b4084b82",
   "metadata": {},
   "outputs": [],
   "source": []
  },
  {
   "cell_type": "markdown",
   "id": "51b451f8",
   "metadata": {},
   "source": [
    "#### Coleta de Dados de Arquivo do Tipo Texto\n",
    "***\n",
    "Arquivos de texto são amplamente utilizados devido à sua simplicidade e versatilidade, e podem conter uma variedade de dados estruturados ou não estruturados."
   ]
  },
  {
   "cell_type": "code",
   "execution_count": null,
   "id": "6df7aa56",
   "metadata": {},
   "outputs": [],
   "source": []
  },
  {
   "cell_type": "code",
   "execution_count": null,
   "id": "fef3328c",
   "metadata": {},
   "outputs": [],
   "source": []
  },
  {
   "cell_type": "markdown",
   "id": "4275b1cc",
   "metadata": {},
   "source": [
    "#### Coleta de Dados de Arquivo do Tipo JSON\n",
    "***\n",
    "A coleta de dados de arquivos JSON é uma etapa importante em muitos projetos de automação e análise de dados, especialmente quando se trabalha com dados provenientes de APIs ou de sistemas modernos que utilizam JSON como formato padrão. "
   ]
  },
  {
   "cell_type": "code",
   "execution_count": null,
   "id": "ad7369fe",
   "metadata": {},
   "outputs": [],
   "source": []
  },
  {
   "cell_type": "code",
   "execution_count": null,
   "id": "f0f6532c",
   "metadata": {},
   "outputs": [],
   "source": []
  },
  {
   "cell_type": "markdown",
   "id": "d28bbc24",
   "metadata": {},
   "source": [
    "#### Coleta de Dados de Tabelas Estruturadas na Web \n",
    "***\n",
    "A coleta de dados de tabelas estruturadas na web é uma prática comum em análise e automação de dados, permitindo a extração de informações diretamente de páginas web para análises subsequentes. \n",
    "\n",
    "Exemplo: https://pt.wikipedia.org/wiki/Discografia_de_The_Beatles"
   ]
  },
  {
   "cell_type": "code",
   "execution_count": null,
   "id": "126fa398",
   "metadata": {},
   "outputs": [],
   "source": []
  },
  {
   "cell_type": "code",
   "execution_count": null,
   "id": "8a7fadef",
   "metadata": {},
   "outputs": [],
   "source": []
  },
  {
   "cell_type": "code",
   "execution_count": null,
   "id": "3695e1fc",
   "metadata": {},
   "outputs": [],
   "source": []
  },
  {
   "cell_type": "code",
   "execution_count": null,
   "id": "0ea866c0",
   "metadata": {},
   "outputs": [],
   "source": []
  },
  {
   "cell_type": "markdown",
   "id": "24dca471",
   "metadata": {},
   "source": [
    "#### Coleta de dados via Requests\n",
    "***"
   ]
  },
  {
   "cell_type": "code",
   "execution_count": null,
   "id": "5ff380d5",
   "metadata": {},
   "outputs": [],
   "source": []
  },
  {
   "cell_type": "code",
   "execution_count": null,
   "id": "b4d05a51",
   "metadata": {},
   "outputs": [],
   "source": []
  },
  {
   "cell_type": "code",
   "execution_count": null,
   "id": "7dfa6222",
   "metadata": {},
   "outputs": [],
   "source": []
  },
  {
   "cell_type": "code",
   "execution_count": null,
   "id": "f157018a",
   "metadata": {},
   "outputs": [],
   "source": []
  }
 ],
 "metadata": {
  "kernelspec": {
   "display_name": "pucminas",
   "language": "python",
   "name": "python3"
  },
  "language_info": {
   "codemirror_mode": {
    "name": "ipython",
    "version": 3
   },
   "file_extension": ".py",
   "mimetype": "text/x-python",
   "name": "python",
   "nbconvert_exporter": "python",
   "pygments_lexer": "ipython3",
   "version": "3.11.0"
  }
 },
 "nbformat": 4,
 "nbformat_minor": 5
}
