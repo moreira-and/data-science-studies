{
 "cells": [
  {
   "cell_type": "markdown",
   "id": "316736c2",
   "metadata": {},
   "source": [
    "# Estruturas de Dados\n",
    "****\n",
    "As estruturas de dados desempenham um papel fundamental na organização e manipulação de informações em qualquer linguagem de programação. Em Python, uma linguagem conhecida por sua simplicidade e flexibilidade, uma variedade de estruturas de dados está disponível para lidar com diferentes necessidades de armazenamento e processamento de dados.\n",
    "\n",
    "Nesta aula, exploraremos algumas das estruturas de dados mais comuns em Python, incluindo listas, tuplas, conjuntos, dicionários, séries e dataframes. Cada uma dessas estruturas possui características únicas que a tornam adequada para diferentes tipos de tarefas.\n",
    "***"
   ]
  },
  {
   "cell_type": "markdown",
   "id": "2d53db6b",
   "metadata": {},
   "source": [
    "##### Lista (list)\n",
    "\n",
    "As listas em Python são estruturas de dados fundamentais que permitem armazenar coleções ordenadas de itens. Elas são mutáveis, o que significa que você pode adicionar, remover e modificar elementos após a criação da lista. As listas são muito versáteis e são amplamente utilizadas em programação Python para armazenar e manipular conjuntos de dados.\n",
    "\n",
    "O tipo de dados lista é utilizado para representar uma sequência **mutável** de valores. Uma lista é criada colocando valores separados por vírgulas entre colchetes. Os valores podem ser de qualquer tipo.\n"
   ]
  },
  {
   "cell_type": "code",
   "execution_count": null,
   "id": "64b950f9",
   "metadata": {},
   "outputs": [],
   "source": []
  },
  {
   "cell_type": "markdown",
   "id": "e2fd481d",
   "metadata": {},
   "source": [
    "Acesso a Elementos \n",
    "\n",
    "Para acessar elementos individuais em uma lista, utilize índices começando do 0."
   ]
  },
  {
   "cell_type": "code",
   "execution_count": null,
   "id": "150908a5",
   "metadata": {},
   "outputs": [],
   "source": []
  },
  {
   "cell_type": "code",
   "execution_count": null,
   "id": "656604d5",
   "metadata": {},
   "outputs": [],
   "source": []
  },
  {
   "cell_type": "markdown",
   "id": "60e04a74",
   "metadata": {},
   "source": [
    "Adição de Elementos\n",
    "\n",
    "Adicione elementos ao final da lista com append() ou insira em uma posição específica com insert()."
   ]
  },
  {
   "cell_type": "code",
   "execution_count": null,
   "id": "80633ca6",
   "metadata": {},
   "outputs": [],
   "source": []
  },
  {
   "cell_type": "code",
   "execution_count": null,
   "id": "01b08f79",
   "metadata": {},
   "outputs": [],
   "source": []
  },
  {
   "cell_type": "markdown",
   "id": "92827047",
   "metadata": {},
   "source": [
    "Remoção de Elementos\n",
    "\n",
    "Remova elementos com del, remove() ou pop()."
   ]
  },
  {
   "cell_type": "code",
   "execution_count": null,
   "id": "fc89e965",
   "metadata": {},
   "outputs": [],
   "source": []
  },
  {
   "cell_type": "code",
   "execution_count": null,
   "id": "d1176983",
   "metadata": {},
   "outputs": [],
   "source": []
  },
  {
   "cell_type": "code",
   "execution_count": null,
   "id": "d765a30c",
   "metadata": {},
   "outputs": [],
   "source": []
  },
  {
   "cell_type": "markdown",
   "id": "ab1d738c",
   "metadata": {},
   "source": [
    "Concatenação de Listas\n",
    "\n",
    "Concatene listas com o operador +."
   ]
  },
  {
   "cell_type": "code",
   "execution_count": 16,
   "id": "4ca918b5",
   "metadata": {},
   "outputs": [],
   "source": []
  },
  {
   "cell_type": "markdown",
   "id": "f8662f31",
   "metadata": {},
   "source": [
    "Fatiamento (Slicing)\n",
    "\n",
    "Extraia partes da lista usando a notação de fatiamento."
   ]
  },
  {
   "cell_type": "code",
   "execution_count": null,
   "id": "3c734408",
   "metadata": {},
   "outputs": [],
   "source": []
  },
  {
   "cell_type": "markdown",
   "id": "1432ca74",
   "metadata": {},
   "source": [
    "Ordenação\n",
    "\n",
    "Ordene os elementos de uma lista com sort() e inverta a ordem com reverse()."
   ]
  },
  {
   "cell_type": "code",
   "execution_count": null,
   "id": "6e745735",
   "metadata": {},
   "outputs": [],
   "source": []
  },
  {
   "cell_type": "code",
   "execution_count": null,
   "id": "9d4c74df",
   "metadata": {},
   "outputs": [],
   "source": []
  },
  {
   "cell_type": "markdown",
   "id": "ca5291b3",
   "metadata": {},
   "source": [
    "***"
   ]
  },
  {
   "cell_type": "markdown",
   "id": "9c92e7b9",
   "metadata": {},
   "source": [
    "##### Tupla (tuple)\n",
    "O tipo de dados tupla é utilizado para representar uma sequência **imutável** de valores. Uma tupla é criada colocando valores separados por vírgulas entre parênteses. Os valores podem ser de qualquer tipo.\n",
    "\n",
    "1. O uso de tuplas em Python é muito comum quando se deseja armazenar um conjunto de valores que não devem ser modificados.\n",
    "\n",
    "2. As tuplas são utilizadas em diversas situações, como por exemplo, na representação de coordenadas geográficas (latitude e longitude), na definição de cores em sistemas de design gráfico, na criação de jogos que requerem o armazenamento de posições de elementos em uma grade, entre outros."
   ]
  },
  {
   "cell_type": "markdown",
   "id": "6c221a6d",
   "metadata": {},
   "source": [
    "Criação de uma Tupla\n",
    "\n",
    "Para criar uma tupla, você pode usar parênteses e separar os elementos por vírgulas."
   ]
  },
  {
   "cell_type": "code",
   "execution_count": null,
   "id": "f1958448",
   "metadata": {},
   "outputs": [],
   "source": []
  },
  {
   "cell_type": "code",
   "execution_count": null,
   "id": "87f45312",
   "metadata": {},
   "outputs": [],
   "source": []
  },
  {
   "cell_type": "markdown",
   "id": "87d36d39",
   "metadata": {},
   "source": [
    "Acesso a Elementos\n",
    "\n",
    "Os elementos de uma tupla são acessados por índices, começando do 0."
   ]
  },
  {
   "cell_type": "code",
   "execution_count": null,
   "id": "5a1c6e8f",
   "metadata": {},
   "outputs": [],
   "source": []
  },
  {
   "cell_type": "code",
   "execution_count": null,
   "id": "dffed15f",
   "metadata": {},
   "outputs": [],
   "source": []
  },
  {
   "cell_type": "markdown",
   "id": "b1e648c5",
   "metadata": {},
   "source": [
    "Fatiamento (Slicing) de uma Tupla\n",
    "\n",
    "Você pode extrair partes de uma tupla usando a notação de fatiamento."
   ]
  },
  {
   "cell_type": "code",
   "execution_count": null,
   "id": "f2f90a7f",
   "metadata": {},
   "outputs": [],
   "source": []
  },
  {
   "cell_type": "markdown",
   "id": "a78acac3",
   "metadata": {},
   "source": [
    "Concatenação de Tuplas\n",
    "\n",
    "Concatene tuplas usando o operador +."
   ]
  },
  {
   "cell_type": "code",
   "execution_count": null,
   "id": "2cea697b",
   "metadata": {},
   "outputs": [],
   "source": []
  },
  {
   "cell_type": "markdown",
   "id": "32f53d2c",
   "metadata": {},
   "source": [
    "Imutabilidade\n",
    "\n",
    "Tentativas de modificar elementos de uma tupla resultarão em erro."
   ]
  },
  {
   "cell_type": "code",
   "execution_count": null,
   "id": "32d496da",
   "metadata": {},
   "outputs": [],
   "source": []
  },
  {
   "cell_type": "markdown",
   "id": "c0b287a2",
   "metadata": {},
   "source": [
    "***"
   ]
  },
  {
   "cell_type": "markdown",
   "id": "03c3b87b",
   "metadata": {},
   "source": [
    "##### Dicionário (dict)\n",
    "O tipo de dado dicionário (dict) em Python é uma estrutura de dados que armazena valores em pares de chave-valor.\n",
    "\n",
    "Os dicionários em Python são estruturas de dados que permitem armazenar pares chave-valor, onde cada valor é associado a uma chave única. Eles são muito úteis para representar dados estruturados e indexados por chaves significativas, facilitando o acesso e a manipulação dos dados. Aqui estão algumas características importantes dos dicionários\n",
    "\n",
    "\n",
    "- Chaves Únicas: Cada chave em um dicionário é única, o que significa que não pode haver duas chaves iguais no mesmo dicionário. No entanto, os valores associados às chaves podem ser duplicados.\n",
    "\n",
    "- Mutabilidade: Os dicionários são mutáveis, o que significa que você pode adicionar, modificar e remover pares chave-valor após a criação do dicionário.\n",
    "\n",
    "- Flexibilidade: Os valores em um dicionário podem ser de qualquer tipo de dado, incluindo inteiros, strings, floats, listas, tuplas, conjuntos, outros dicionários e até mesmo funções.\n",
    "\n",
    "- Indexação por Chaves: Os elementos em um dicionário são acessados não por índices numéricos, como em listas e tuplas, mas sim por meio de chaves significativas."
   ]
  },
  {
   "cell_type": "markdown",
   "id": "ed0fcba8",
   "metadata": {},
   "source": [
    "Criação de um Dicionário\n",
    "\n",
    "Para criar um dicionário, você pode usar chaves {} e especificar pares chave-valor separados por vírgulas."
   ]
  },
  {
   "cell_type": "code",
   "execution_count": 38,
   "id": "795b7059",
   "metadata": {},
   "outputs": [],
   "source": []
  },
  {
   "cell_type": "code",
   "execution_count": null,
   "id": "e31d1446",
   "metadata": {},
   "outputs": [],
   "source": []
  },
  {
   "cell_type": "markdown",
   "id": "790f178b",
   "metadata": {},
   "source": [
    "Acesso a Elementos por Chave\n",
    "\n",
    "Os elementos em um dicionário são acessados por suas chaves."
   ]
  },
  {
   "cell_type": "code",
   "execution_count": null,
   "id": "2eb4efc1",
   "metadata": {},
   "outputs": [],
   "source": []
  },
  {
   "cell_type": "code",
   "execution_count": null,
   "id": "b60493f3",
   "metadata": {},
   "outputs": [],
   "source": []
  },
  {
   "cell_type": "markdown",
   "id": "f535dbd5",
   "metadata": {},
   "source": [
    "Adição de Novos Pares Chave-Valor\n",
    "\n",
    "Você pode adicionar novos pares chave-valor a um dicionário atribuindo um valor a uma nova chave."
   ]
  },
  {
   "cell_type": "code",
   "execution_count": 42,
   "id": "140beb78",
   "metadata": {},
   "outputs": [],
   "source": []
  },
  {
   "cell_type": "code",
   "execution_count": null,
   "id": "6ac9351b",
   "metadata": {},
   "outputs": [],
   "source": []
  },
  {
   "cell_type": "markdown",
   "id": "b3fff67b",
   "metadata": {},
   "source": [
    "Modificação de Valores de Chaves Existentes\n",
    "\n",
    "Você pode modificar o valor associado a uma chave existente atribuindo um novo valor a essa chave."
   ]
  },
  {
   "cell_type": "code",
   "execution_count": 44,
   "id": "83cb5c0d",
   "metadata": {},
   "outputs": [],
   "source": []
  },
  {
   "cell_type": "code",
   "execution_count": null,
   "id": "8dcd3d7f",
   "metadata": {},
   "outputs": [],
   "source": []
  },
  {
   "cell_type": "markdown",
   "id": "b8fd11ef",
   "metadata": {},
   "source": [
    "Remoção de Pares Chave-Valor\n",
    "\n",
    "Você pode remover pares chave-valor de um dicionário usando o comando del seguido da chave que deseja remover."
   ]
  },
  {
   "cell_type": "code",
   "execution_count": null,
   "id": "9231a592",
   "metadata": {},
   "outputs": [],
   "source": []
  },
  {
   "cell_type": "markdown",
   "id": "7d1387c8",
   "metadata": {},
   "source": [
    "Iteração sobre Chaves e Valores\n",
    "\n",
    "Você pode iterar sobre as chaves, os valores ou ambos em um dicionário usando loops for."
   ]
  },
  {
   "cell_type": "code",
   "execution_count": null,
   "id": "3282f4ae",
   "metadata": {},
   "outputs": [],
   "source": [
    "\n"
   ]
  },
  {
   "cell_type": "code",
   "execution_count": null,
   "id": "e84d329b",
   "metadata": {},
   "outputs": [],
   "source": []
  }
 ],
 "metadata": {
  "kernelspec": {
   "display_name": "avaliacao",
   "language": "python",
   "name": "python3"
  },
  "language_info": {
   "codemirror_mode": {
    "name": "ipython",
    "version": 3
   },
   "file_extension": ".py",
   "mimetype": "text/x-python",
   "name": "python",
   "nbconvert_exporter": "python",
   "pygments_lexer": "ipython3",
   "version": "3.11.3"
  }
 },
 "nbformat": 4,
 "nbformat_minor": 5
}
