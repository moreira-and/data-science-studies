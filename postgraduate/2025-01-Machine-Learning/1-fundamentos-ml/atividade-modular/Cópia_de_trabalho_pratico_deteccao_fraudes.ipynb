{
  "nbformat": 4,
  "nbformat_minor": 0,
  "metadata": {
    "colab": {
      "private_outputs": true,
      "provenance": []
    },
    "kernelspec": {
      "name": "python3",
      "display_name": "Python 3"
    },
    "language_info": {
      "name": "python"
    }
  },
  "cells": [
    {
      "cell_type": "code",
      "execution_count": null,
      "metadata": {
        "id": "HmVx_LZfZYC4"
      },
      "outputs": [],
      "source": [
        "# https://www.kaggle.com/datasets/kartik2112/fraud-detection/code\n",
        "\n",
        "# O atributo de interesse é is_fraud\n",
        "\n",
        "import pandas as pd\n",
        "\n",
        "transacoes_train_df = pd.read_csv('fraudTrain.csv')\n",
        "transacoes_test_df = pd.read_csv('fraudTest.csv')\n"
      ]
    },
    {
      "cell_type": "code",
      "source": [
        "transacoes_train_df.info()"
      ],
      "metadata": {
        "id": "qkrDmg1h2zPc"
      },
      "execution_count": null,
      "outputs": []
    },
    {
      "cell_type": "code",
      "source": [
        "# Questao 1\n",
        "# Caso a regra de decisão da iComida seja de que toda transação é aceita\n",
        "# e nunca é bloqueada por fraude, qual seria a acurácia deste \"modelo\"\n",
        "# nas transações de teste?\n",
        "# dica: use https://pandas.pydata.org/docs/reference/api/pandas.DataFrame.value_counts.html\n",
        "# para contar frequências.\n",
        "\n",
        "transacoes_test_df['is_fraud'].value_counts()\n"
      ],
      "metadata": {
        "id": "Q4MuBr5ibT3M"
      },
      "execution_count": null,
      "outputs": []
    },
    {
      "cell_type": "code",
      "source": [
        "\n",
        "#acuracia = (1289169) / (1289169 + 7506)\n",
        "#acuracia\n",
        "\n",
        "acuracia = (553574) / (553574 + 2145)\n",
        "acuracia"
      ],
      "metadata": {
        "id": "cXjs704Ax-st"
      },
      "execution_count": null,
      "outputs": []
    },
    {
      "cell_type": "code",
      "source": [
        "# Questão 3\n",
        "# Antes de estudar aprendizado de máquina na Faculdade XP,\n",
        "# sua alternativa para criar modelos preditivos era usar sua intuição, experiência\n",
        "# e olhar para os dados em busca de padrões.\n",
        "# Por exemplo, sua experiência lhe diz que transações fraudulentas tendem a\n",
        "# movimentar valores mais altos, e você confirma isto pelo gráfico abaixo.\n",
        "\n",
        "import seaborn as sns\n",
        "import matplotlib.pyplot as plt\n",
        "import pandas as pd\n",
        "\n",
        "plt.figure(figsize=(10, 6))\n",
        "sns.kdeplot(data=transacoes_train_df, x='amt', hue='is_fraud', fill=True, common_norm=False)\n",
        "\n",
        "plt.title('Distribuição de probabilidade para fraude/não-fraude', fontsize=14)\n",
        "plt.xlabel('Amount (amt)', fontsize=12)\n",
        "plt.ylabel('Densidade', fontsize=12)\n",
        "plt.xlim(0, 1500)\n",
        "\n",
        "# Exibindo o gráfico\n",
        "plt.show()"
      ],
      "metadata": {
        "id": "3UsjIO-KyFZi"
      },
      "execution_count": null,
      "outputs": []
    },
    {
      "cell_type": "code",
      "source": [
        "# Questão 3.\n",
        "# Então, você tenta criar uma classificador \"na mão\".\n",
        "# Você monta classificadores em que, a partir de um certo valor\n",
        "# valor_minimo_fraude, a transação será classificada como fraude.\n",
        "\n",
        "import numpy as np\n",
        "from sklearn.base import BaseEstimator, ClassifierMixin\n",
        "\n",
        "class ClassificadorDeFraudeManual(BaseEstimator, ClassifierMixin):\n",
        "    def fit(self, X, y):\n",
        "        return self\n",
        "\n",
        "    def predict(self, X):\n",
        "\n",
        "       def predict_fraud(x):\n",
        "            valor_minimo_fraude = 1000\n",
        "            if x['amt'] > valor_minimo_fraude:\n",
        "                return 1\n",
        "            else:\n",
        "                return 0\n",
        "\n",
        "       return X.apply(predict_fraud, axis=1)\n"
      ],
      "metadata": {
        "id": "pgcxU7ql1wlh"
      },
      "execution_count": null,
      "outputs": []
    },
    {
      "cell_type": "code",
      "source": [
        "X = transacoes_train_df[['amt']]\n",
        "Y = transacoes_train_df['is_fraud']\n"
      ],
      "metadata": {
        "id": "j1yMoq3-2CvL"
      },
      "execution_count": null,
      "outputs": []
    },
    {
      "cell_type": "code",
      "source": [
        "# Questao 3.\n",
        "# Você pretende criar uma classificador manual para ajudar o time anti-fraude do iComida.\n",
        "# A ideia é que, ao invés de ter que examinar dezenas de milhares de potenciais fraudes por dia,\n",
        "# o time examine apenas um sub-conjunto de potenciais fraudes que seu algoritmo identificou.\n",
        "# Você experimenta com 4 limiares: 200, 400, 800 e 1.000 reais.\n",
        "# Qual destes valores de corte gera menos falsos positivos, ou seja, traz mais confiança\n",
        "# para o time de fraude de que as transações indicadas pelo seu sistema são realmente fraudes?\n",
        "\n",
        "# Questão 4\n",
        "# Caso você queira que o seu sistema deixe menos fraudes sem serem escrutinadas pelo time de fraude,\n",
        "# mesmo que eles tenham que examinar muitas transações legítimas, qual limiar você escolheria?\n",
        "\n",
        "from sklearn.metrics import classification_report\n",
        "\n",
        "classificador_manual = ClassificadorDeFraudeManual()\n",
        "classificador_manual.fit(X, Y)\n",
        "\n",
        "Y_pred = classificador_manual.predict(X)\n",
        "\n",
        "report = classification_report(Y, Y_pred)\n",
        "print(report)\n"
      ],
      "metadata": {
        "id": "7fakMbXX1_Uy"
      },
      "execution_count": null,
      "outputs": []
    },
    {
      "cell_type": "code",
      "source": [
        "# Questão 5.\n",
        "# A partir dos seus estudos em aprendizado de máquina, você\n",
        "# decide usar os dados para criar o programa que decide se uma transação é fraude,\n",
        "# ao invés de contar apenas com sua intuição e capacidade de analisar gráficos.\n",
        "# Você pediu pro chatGPT gerar uma árvode de decisão que classifica fraudes\n",
        "# a partir do montante (amt) da transação, e ele gerou o seguinte código.\n",
        "# Incrivelmente, a precisão é 98%! De cada 100 transações que o modelo acusa\n",
        "# como fraude, ele se equivoca em apenas 2 casos, em média.\n",
        "\n",
        "from sklearn.metrics import classification_report\n",
        "from sklearn.tree import DecisionTreeClassifier\n",
        "\n",
        "decision_tree_model = DecisionTreeClassifier(random_state=42)\n",
        "decision_tree_model.fit(X, Y)\n",
        "\n",
        "Y_pred = decision_tree_model.predict(X)\n",
        "\n",
        "report = classification_report(Y, Y_pred)\n",
        "print(report)"
      ],
      "metadata": {
        "id": "1yhT9esq-xlh"
      },
      "execution_count": null,
      "outputs": []
    },
    {
      "cell_type": "code",
      "source": [
        "# Questão 5. Animado com a capacidade de modelos de aprendizado de máquina, você\n",
        "# quer entender mais sobre o modelo aprendido.\n",
        "# Visite https://scikit-learn.org/stable/modules/generated/sklearn.tree.DecisionTreeClassifier.html#sklearn.tree.DecisionTreeClassifier.get_depth\n",
        "# e responde qual é a profundidade da árvore aprendida.\n",
        "\n",
        "decision_tree_model.get_depth()"
      ],
      "metadata": {
        "id": "IuTJUCJUB42R"
      },
      "execution_count": null,
      "outputs": []
    },
    {
      "cell_type": "code",
      "source": [
        "# questao 6\n",
        "# Você acha a profundidade da árvore muito alta, afinal, você está criando a árvore com apenas um atributo (amt)!\n",
        "# Você usa https://scikit-learn.org/stable/modules/generated/sklearn.tree.DecisionTreeClassifier.html#sklearn.tree.DecisionTreeClassifier.get_n_leaves para descobrir quantas “folhas” tem a árvore.\n",
        "# Um nó “folha”, em uma árvore, são os nós finais que efetivamente classificam uma transação entre fraude e legítima.\n",
        "# Qual o número de folhas da árvore que você criou?\n",
        "\n",
        "decision_tree_model.get_n_leaves()"
      ],
      "metadata": {
        "id": "aNwZN2-JpaPy"
      },
      "execution_count": null,
      "outputs": []
    },
    {
      "cell_type": "code",
      "source": [
        "# questao 7\n",
        "# Você decide, agora, computar a precisão e cobertura do modelo no conjunto de treino e de teste.\n",
        "# O que você observa?\n",
        "\n",
        "X_train = transacoes_train_df[['amt']]\n",
        "y_train = transacoes_train_df['is_fraud']\n",
        "\n",
        "X_test = transacoes_test_df[['amt']]\n",
        "y_test = transacoes_test_df['is_fraud']\n"
      ],
      "metadata": {
        "id": "kdhPB69K_LrR"
      },
      "execution_count": null,
      "outputs": []
    },
    {
      "cell_type": "code",
      "source": [
        "y_pred_test = decision_tree_model.predict(X_test)\n",
        "\n",
        "report = classification_report(y_test, y_pred_test)\n",
        "print(report)"
      ],
      "metadata": {
        "id": "s0ojAxye_kJ1"
      },
      "execution_count": null,
      "outputs": []
    },
    {
      "cell_type": "code",
      "source": [
        "# Questao 9\n",
        "# Você percebe que precisa realizar validação cruzada para avaliar o modelo de forma justa.\n",
        "# O modelo que maximiza a cobertura tem qual profundidade?\n",
        "\n",
        "from sklearn.model_selection import GridSearchCV\n",
        "from sklearn.tree import DecisionTreeClassifier\n",
        "from sklearn.metrics import accuracy_score\n",
        "\n",
        "# Definir os parâmetros para o GridSearch\n",
        "param_grid = {\n",
        "    # complete aqui\n",
        "    'max_depth': [1, 2, 3, 4, 5, 6, 10, 90],\n",
        "}\n",
        "\n",
        "dt_classifier = DecisionTreeClassifier(random_state=42)\n",
        "grid_search = GridSearchCV(estimator=dt_classifier, param_grid=param_grid, cv=3, scoring='recall')\n",
        "\n",
        "grid_search.fit(X_train, y_train)\n",
        "best_model = grid_search.best_estimator_\n",
        "\n",
        "y_pred_test = best_model.predict(X_test)\n",
        "\n",
        "report_test = classification_report(y_test, y_pred_test)\n",
        "print(report_test)"
      ],
      "metadata": {
        "id": "I5cCC_nfx96u"
      },
      "execution_count": null,
      "outputs": []
    },
    {
      "cell_type": "code",
      "source": [
        "# Questao 9\n",
        "# Imprimir profundidade máxima e número de nós\n",
        "print(f\"Profundidade máxima da árvore: {best_model.tree_.max_depth}\")\n",
        "print(f\"Número de nós na árvore: {best_model.tree_.node_count}\")"
      ],
      "metadata": {
        "id": "EeoApfhFzep5"
      },
      "execution_count": null,
      "outputs": []
    },
    {
      "cell_type": "code",
      "source": [
        "# Questao 9\n",
        "grid_search.cv_results_"
      ],
      "metadata": {
        "id": "TUjRT4U7__qU"
      },
      "execution_count": null,
      "outputs": []
    },
    {
      "cell_type": "code",
      "source": [
        "# Questao 10 / 11\n",
        "# Agora você quer melhorar o modelo adicionando um novo atributo: a hora do dia em que a transação aconteceu.\n",
        "# ALTERE o código que você já tem neste notebook para adicionar a variável 'Hour' ao modelo.\n",
        "# O que aconteceu?\n",
        "\n",
        "transacoes_train_df['trans_date_trans_time'] = pd.to_datetime(transacoes_train_df['trans_date_trans_time'])\n",
        "transacoes_train_df['Hour'] = transacoes_train_df['trans_date_trans_time'].dt.hour\n",
        "\n",
        "transacoes_test_df['trans_date_trans_time'] = pd.to_datetime(transacoes_test_df['trans_date_trans_time'])\n",
        "transacoes_test_df['Hour'] = transacoes_test_df['trans_date_trans_time'].dt.hour\n",
        "\n",
        "X_train = transacoes_train_df[['amt', 'Hour']]\n",
        "y_train = transacoes_train_df['is_fraud']\n",
        "\n",
        "X_test = transacoes_test_df[['amt', 'Hour']]\n",
        "y_test = transacoes_test_df['is_fraud']\n"
      ],
      "metadata": {
        "id": "YcPvkAQg3Q5O"
      },
      "execution_count": null,
      "outputs": []
    },
    {
      "cell_type": "code",
      "source": [
        "# Questao 10 / 11\n",
        "# Agora você quer melhorar o modelo adicionando um novo atributo: a hora do dia em que a transação aconteceu.\n",
        "# ALTERE o código que você já tem neste notebook para adicionar a variável 'Hour' ao modelo.\n",
        "# O que aconteceu?\n",
        "\n",
        "from sklearn.model_selection import GridSearchCV\n",
        "from sklearn.tree import DecisionTreeClassifier\n",
        "from sklearn.metrics import accuracy_score\n",
        "\n",
        "# Definir os parâmetros para o GridSearch\n",
        "param_grid = {\n",
        "    # complete aqui\n",
        "    'max_depth': [1, 2, 3, 4, 5, 6, 10, 90],\n",
        "}\n",
        "\n",
        "dt_classifier = DecisionTreeClassifier(random_state=42)\n",
        "grid_search = GridSearchCV(estimator=dt_classifier, param_grid=param_grid, cv=3, scoring='precision')\n",
        "\n",
        "grid_search.fit(X_train, y_train)\n",
        "best_model = grid_search.best_estimator_\n",
        "\n",
        "y_pred_test = best_model.predict(X_test)\n",
        "\n",
        "report_test = classification_report(y_test, y_pred_test)\n",
        "print(report_test)"
      ],
      "metadata": {
        "id": "quKUFvc-FWhI"
      },
      "execution_count": null,
      "outputs": []
    },
    {
      "cell_type": "code",
      "source": [
        "# Questao 12\n",
        "#Troque a chamada de GridSearchCV para otimizar a cobertura (recall), ao invés de otimizar a precisão (recall).\n",
        "#Quais os novos valores de precisão e cobertura?\n",
        "\n",
        "from sklearn.model_selection import GridSearchCV\n",
        "from sklearn.tree import DecisionTreeClassifier\n",
        "from sklearn.metrics import accuracy_score\n",
        "\n",
        "# Definir os parâmetros para o GridSearch\n",
        "param_grid = {\n",
        "    # complete aqui\n",
        "    'max_depth': [1, 2, 3, 4, 5, 6, 10, 90],\n",
        "}\n",
        "\n",
        "dt_classifier = DecisionTreeClassifier(random_state=42)\n",
        "grid_search = GridSearchCV(estimator=dt_classifier, param_grid=param_grid, cv=3, scoring='recall')\n",
        "\n",
        "grid_search.fit(X_train, y_train)\n",
        "best_model = grid_search.best_estimator_\n",
        "\n",
        "y_pred_test = best_model.predict(X_test)\n",
        "\n",
        "report_test = classification_report(y_test, y_pred_test)\n",
        "print(report_test)"
      ],
      "metadata": {
        "id": "vb1nzhpMG9zF"
      },
      "execution_count": null,
      "outputs": []
    }
  ]
}